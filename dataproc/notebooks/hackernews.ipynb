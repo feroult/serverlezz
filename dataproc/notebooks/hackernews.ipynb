{
 "cells": [
  {
   "cell_type": "markdown",
   "metadata": {},
   "source": [
    "# Hackernews"
   ]
  },
  {
   "cell_type": "markdown",
   "metadata": {},
   "source": [
    "Demonstração com dados públicos do site Hackernews"
   ]
  },
  {
   "cell_type": "markdown",
   "metadata": {},
   "source": [
    "## Pacotes"
   ]
  },
  {
   "cell_type": "code",
   "execution_count": 1,
   "metadata": {},
   "outputs": [],
   "source": [
    "%matplotlib inline\n",
    "\n",
    "from pyspark.sql.types import *\n",
    "from pyspark.sql.functions import *\n",
    "\n",
    "from pyspark.sql import SparkSession\n",
    "\n",
    "import matplotlib.pyplot as plt\n",
    "import pandas as pd\n",
    "\n",
    "plt.rcParams[\"figure.figsize\"] = [15, 7]"
   ]
  },
  {
   "cell_type": "markdown",
   "metadata": {},
   "source": [
    "## Carregando Dados"
   ]
  },
  {
   "cell_type": "markdown",
   "metadata": {},
   "source": [
    "<div style=\"text-align:justify\">\n",
    "Dados públicos do BigQuery\n",
    "</div>"
   ]
  },
  {
   "cell_type": "code",
   "execution_count": 2,
   "metadata": {},
   "outputs": [],
   "source": [
    "spark = SparkSession.builder.appName('Hackernews').getOrCreate()\n",
    "data = spark.read.csv('gs://data-fest-proc/zones/transient_zone/hackernews-*.csv', header=True).cache()"
   ]
  },
  {
   "cell_type": "code",
   "execution_count": 3,
   "metadata": {},
   "outputs": [],
   "source": [
    "data = data.withColumn('year', year('timestamp'))\n",
    "data = data.withColumn('month', month('timestamp'))\n",
    "data = data.withColumn('day', dayofmonth('timestamp'))"
   ]
  },
  {
   "cell_type": "code",
   "execution_count": 4,
   "metadata": {},
   "outputs": [],
   "source": [
    "data = data.filter((data.year >= 2007) & (data.year <= 2018))"
   ]
  },
  {
   "cell_type": "code",
   "execution_count": 5,
   "metadata": {},
   "outputs": [
    {
     "name": "stdout",
     "output_type": "stream",
     "text": [
      "18290487 records.\n",
      "root\n",
      " |-- by: string (nullable = true)\n",
      " |-- score: string (nullable = true)\n",
      " |-- time: string (nullable = true)\n",
      " |-- timestamp: string (nullable = true)\n",
      " |-- title: string (nullable = true)\n",
      " |-- type: string (nullable = true)\n",
      " |-- url: string (nullable = true)\n",
      " |-- text: string (nullable = true)\n",
      " |-- parent: string (nullable = true)\n",
      " |-- deleted: string (nullable = true)\n",
      " |-- dead: string (nullable = true)\n",
      " |-- descendants: string (nullable = true)\n",
      " |-- id: string (nullable = true)\n",
      " |-- ranking: string (nullable = true)\n",
      " |-- year: integer (nullable = true)\n",
      " |-- month: integer (nullable = true)\n",
      " |-- day: integer (nullable = true)\n",
      "\n"
     ]
    }
   ],
   "source": [
    "print('%d records.' % (data.count()))\n",
    "data.printSchema()"
   ]
  },
  {
   "cell_type": "markdown",
   "metadata": {},
   "source": [
    "## Funções"
   ]
  },
  {
   "cell_type": "code",
   "execution_count": 6,
   "metadata": {},
   "outputs": [],
   "source": [
    "def get_date(year, month):\n",
    "    return '%d-%02d' % (year, month)\n",
    "get_date_udf = udf(get_date)\n",
    "\n",
    "def get_comments_by_posts(comments, posts):\n",
    "    return comments / posts\n",
    "get_comments_by_posts_udf = udf(get_comments_by_posts, FloatType())"
   ]
  },
  {
   "cell_type": "markdown",
   "metadata": {},
   "source": [
    "## Registros por Tipo"
   ]
  },
  {
   "cell_type": "code",
   "execution_count": 7,
   "metadata": {
    "scrolled": true
   },
   "outputs": [
    {
     "name": "stdout",
     "output_type": "stream",
     "text": [
      "+--------------------+--------+\n",
      "|                type|   count|\n",
      "+--------------------+--------+\n",
      "|             comment|15184750|\n",
      "|               story| 3078330|\n",
      "|             pollopt|   11981|\n",
      "|                 job|   11278|\n",
      "|                poll|    1752|\n",
      "|                null|      13|\n",
      "|                   \"|       7|\n",
      "|              Wi-Fi\"|       6|\n",
      "|         Dolby Audio|       4|\n",
      "|            please?\"|       4|\n",
      "|              Escher|       4|\n",
      "|            World\"\"\"|       3|\n",
      "|          Anyway?\"\"\"|       3|\n",
      "|                 000|       3|\n",
      "|             Google\"|       3|\n",
      "|\"\" the Sleazy Fra...|       3|\n",
      "|  Kent Beck and DHH\"|       2|\n",
      "| Ever\"\" to \"\"You ...|       2|\n",
      "| a new Chrome Exp...|       2|\n",
      "|            Anyway?\"|       2|\n",
      "+--------------------+--------+\n",
      "only showing top 20 rows\n",
      "\n"
     ]
    }
   ],
   "source": [
    "data.groupBy('type').count().orderBy(desc('count')).show()"
   ]
  },
  {
   "cell_type": "markdown",
   "metadata": {},
   "source": [
    "## Posts por mês"
   ]
  },
  {
   "cell_type": "code",
   "execution_count": 8,
   "metadata": {},
   "outputs": [
    {
     "name": "stdout",
     "output_type": "stream",
     "text": [
      "+-------+-----------+\n",
      "|   date|posts_count|\n",
      "+-------+-----------+\n",
      "|2007-02|        563|\n",
      "|2007-03|       1763|\n",
      "|2007-04|       2182|\n",
      "+-------+-----------+\n",
      "only showing top 3 rows\n",
      "\n"
     ]
    }
   ],
   "source": [
    "monthly_posts = data \\\n",
    "    .filter(data.type == 'story') \\\n",
    "    .withColumn('date', get_date_udf(data.year, data.month)) \\\n",
    "    .groupBy('date') \\\n",
    "    .agg(count('*').alias('posts_count')) \\\n",
    "    .orderBy('date')\n",
    "\n",
    "monthly_posts.show(3)"
   ]
  },
  {
   "cell_type": "markdown",
   "metadata": {},
   "source": [
    "## Comentários por mês"
   ]
  },
  {
   "cell_type": "code",
   "execution_count": 9,
   "metadata": {},
   "outputs": [
    {
     "name": "stdout",
     "output_type": "stream",
     "text": [
      "+-------+--------------+\n",
      "|   date|comments_count|\n",
      "+-------+--------------+\n",
      "|2007-02|           985|\n",
      "|2007-03|          4521|\n",
      "|2007-04|          8147|\n",
      "+-------+--------------+\n",
      "only showing top 3 rows\n",
      "\n"
     ]
    }
   ],
   "source": [
    "monthly_comments = data \\\n",
    "    .filter(data.type == 'comment') \\\n",
    "    .withColumn('date', get_date_udf(data.year, data.month)) \\\n",
    "    .groupBy('date') \\\n",
    "    .agg(count('*').alias('comments_count')) \\\n",
    "    .orderBy('date')\n",
    "\n",
    "monthly_comments.show(3)"
   ]
  },
  {
   "cell_type": "markdown",
   "metadata": {},
   "source": [
    "## Proporção de Comentários"
   ]
  },
  {
   "cell_type": "code",
   "execution_count": 10,
   "metadata": {},
   "outputs": [
    {
     "name": "stdout",
     "output_type": "stream",
     "text": [
      "+-------+-----------+--------------+----------+\n",
      "|   date|posts_count|comments_count|proportion|\n",
      "+-------+-----------+--------------+----------+\n",
      "|2007-02|        563|           985|  1.749556|\n",
      "|2007-03|       1763|          4521|  2.564379|\n",
      "|2007-04|       2182|          8147| 3.7337306|\n",
      "|2007-05|       2060|          5446| 2.6436894|\n",
      "|2007-06|       1530|          4492| 2.9359477|\n",
      "|2007-07|       1744|          4658| 2.6708715|\n",
      "|2007-08|       2634|          8197|  3.111997|\n",
      "|2007-09|       2558|          9795| 3.8291633|\n",
      "|2007-10|       2901|         10534| 3.6311617|\n",
      "|2007-11|       2486|          7691|  3.093725|\n",
      "|2007-12|       2334|          6392|  2.738646|\n",
      "|2008-01|       3435|          9940|  2.893741|\n",
      "|2008-02|       4307|         14406| 3.3447876|\n",
      "|2008-03|       5339|         19486| 3.6497471|\n",
      "|2008-04|       5658|         20516| 3.6260164|\n",
      "|2008-05|       5995|         21459| 3.5794828|\n",
      "|2008-06|       6192|         20678| 3.3394704|\n",
      "|2008-07|       7135|         23782| 3.3331466|\n",
      "|2008-08|       6572|         21324| 3.2446744|\n",
      "|2008-09|       6900|         21628| 3.1344926|\n",
      "+-------+-----------+--------------+----------+\n",
      "only showing top 20 rows\n",
      "\n"
     ]
    }
   ],
   "source": [
    "comments_by_posts = monthly_posts.alias('mp') \\\n",
    "    .join(monthly_comments.alias('ma'), monthly_posts.date == monthly_comments.date) \\\n",
    "    .select('mp.date', 'mp.posts_count', 'ma.comments_count')\n",
    "\n",
    "comments_by_posts = comments_by_posts.withColumn('proportion', get_comments_by_posts_udf(comments_by_posts.comments_count, comments_by_posts.posts_count))\n",
    "\n",
    "comments_by_posts = comments_by_posts.orderBy('date')\n",
    "\n",
    "comments_by_posts.show()"
   ]
  },
  {
   "cell_type": "markdown",
   "metadata": {},
   "source": [
    "## Visualização Gráfica"
   ]
  },
  {
   "cell_type": "code",
   "execution_count": 12,
   "metadata": {},
   "outputs": [
    {
     "data": {
      "image/png": "[encoded data removed]",
      "text/plain": [
       "<Figure size 432x288 with 1 Axes>"
      ]
     },
     "metadata": {
      "needs_background": "light"
     },
     "output_type": "display_data"
    }
   ],
   "source": [
    "df_plot = comments_by_posts.select('mp.date', 'proportion').toPandas()\n",
    "df_plot['date'] = pd.to_datetime(df_plot['date'])\n",
    "df_plot = df_plot.set_index('date')\n",
    "\n",
    "ax = df_plot.plot()"
   ]
  },
  {
   "cell_type": "markdown",
   "metadata": {},
   "source": [
    "## Salvando RAW"
   ]
  },
  {
   "cell_type": "code",
   "execution_count": null,
   "metadata": {},
   "outputs": [],
   "source": [
    "data \\\n",
    "    .repartition(2) \\\n",
    "    .write \\\n",
    "    .partitionBy('year', 'month') \\\n",
    "    .mode('overwrite') \\\n",
    "    .parquet('gs://data-fest-proc/zones/raw_zone/hackernews.parquet')"
   ]
  },
  {
   "cell_type": "code",
   "execution_count": null,
   "metadata": {},
   "outputs": [],
   "source": []
  }
 ],
 "metadata": {
  "kernelspec": {
   "display_name": "PySpark",
   "language": "python",
   "name": "pyspark"
  },
  "language_info": {
   "codemirror_mode": {
    "name": "ipython",
    "version": 3
   },
   "file_extension": ".py",
   "mimetype": "text/x-python",
   "name": "python",
   "nbconvert_exporter": "python",
   "pygments_lexer": "ipython3",
   "version": "3.6.5"
  }
 },
 "nbformat": 4,
 "nbformat_minor": 2
}